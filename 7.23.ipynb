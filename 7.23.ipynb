{
 "cells": [
  {
   "cell_type": "markdown",
   "metadata": {},
   "source": [
    "# 对象和类\n",
    "- 一个学生，一张桌子，一个圆都是对象\n",
    "- 对象是类的一个实例，你可以创建多个对象，创建类的一个实例过程被称为实例化，\n",
    "- 在Python中对象就是实例，而实例就是对象"
   ]
  },
  {
   "cell_type": "markdown",
   "metadata": {},
   "source": [
    "## 定义类\n",
    "class ClassName:\n",
    "\n",
    "    do something\n",
    "    \n",
    "- class 类的表示与def 一样\n",
    "- 类名最好使用驼峰式\n",
    "- 在Python2中类是需要继承基类object的，在Python中默认继承，可写可不写\n",
    "- 可以将普通代码理解为皮肤，而函数可以理解为内衣，那么类可以理解为外套"
   ]
  },
  {
   "cell_type": "code",
   "execution_count": 34,
   "metadata": {},
   "outputs": [],
   "source": [
    "# 类必须初始化,是用self,初始化自身.\n",
    "# 类里面所有的函数中的第一个变量不再是参数,而是一个印记.\n",
    "# 在类中,如果有参数需要多次使用,那么就可以将其设置为共享参数\n",
    "class Joker:\n",
    "    def __init__(self,num1,num2):\n",
    "        print('我初始化了')\n",
    "        # 参数共享\n",
    "        self.num1 = num1\n",
    "        self.num2 = num2\n",
    "        print(self.num1,self.num2)\n",
    "    def SUM(self,name):\n",
    "        print(name)\n",
    "        return self.num1 + self.num2\n",
    "    def cheng(self):\n",
    "        return self.num1 * self.num2"
   ]
  },
  {
   "cell_type": "code",
   "execution_count": 35,
   "metadata": {},
   "outputs": [
    {
     "name": "stdout",
     "output_type": "stream",
     "text": [
      "我初始化了\n",
      "1 2\n"
     ]
    }
   ],
   "source": [
    "huwang = Joker(num1=1,num2=2) # () 代表直接走初始化函数"
   ]
  },
  {
   "cell_type": "code",
   "execution_count": 36,
   "metadata": {},
   "outputs": [
    {
     "name": "stdout",
     "output_type": "stream",
     "text": [
      "JJJ\n"
     ]
    },
    {
     "data": {
      "text/plain": [
       "3"
      ]
     },
     "execution_count": 36,
     "metadata": {},
     "output_type": "execute_result"
    }
   ],
   "source": [
    "huwang.SUM(name='JJJ')"
   ]
  },
  {
   "cell_type": "code",
   "execution_count": 33,
   "metadata": {},
   "outputs": [
    {
     "data": {
      "text/plain": [
       "2"
      ]
     },
     "execution_count": 33,
     "metadata": {},
     "output_type": "execute_result"
    }
   ],
   "source": [
    "huwang.cheng()"
   ]
  },
  {
   "cell_type": "markdown",
   "metadata": {},
   "source": [
    "## 定义一个不含初始化__init__的简单类\n",
    "class ClassName:\n",
    "\n",
    "    joker = “Home”\n",
    "    \n",
    "    def func():\n",
    "        print('Worker')\n",
    "    \n",
    "- 尽量少使用"
   ]
  },
  {
   "cell_type": "markdown",
   "metadata": {},
   "source": [
    "\n",
    "\n",
    "## 定义一个标准类\n",
    "- __init__ 代表初始化，可以初始化任何动作\n",
    "- 此时类调用要使用()，其中（）可以理解为开始初始化\n",
    "- 初始化内的元素，类中其他的函数可以共享\n",
    "![](../Photo/85.png)"
   ]
  },
  {
   "cell_type": "markdown",
   "metadata": {},
   "source": [
    "- Circle 和 className_ 的第一个区别有 __init__ 这个函数\n",
    "- 。。。。   第二个区别，类中的每一个函数都有self的这个“参数”"
   ]
  },
  {
   "cell_type": "markdown",
   "metadata": {},
   "source": [
    "## 何为self？\n",
    "- self 是指向对象本身的参数\n",
    "- self 只是一个命名规则，其实可以改变的，但是我们约定俗成的是self，也便于理解\n",
    "- 使用了self就可以访问类中定义的成员\n",
    "<img src=\"../Photo/86.png\"></img>"
   ]
  },
  {
   "cell_type": "markdown",
   "metadata": {},
   "source": [
    "## 使用类 Cirlcle"
   ]
  },
  {
   "cell_type": "markdown",
   "metadata": {},
   "source": [
    "## 类的传参\n",
    "- class ClassName:\n",
    "    \n",
    "        def __init__(self, para1,para2...)：\n",
    "            \n",
    "            self.para1 = para1\n",
    "            \n",
    "            self.para2 = para2"
   ]
  },
  {
   "cell_type": "markdown",
   "metadata": {},
   "source": [
    "## EP:\n",
    "- A：定义一个类，类中含有两个功能：\n",
    "    - 1、产生3个随机数，获取最大值\n",
    "    - 2、产生3个随机数，获取最小值\n",
    "- B：定义一个类，（类中函数的嵌套使用）\n",
    "    - 1、第一个函数的功能为：输入一个数字\n",
    "    - 2、第二个函数的功能为：使用第一个函数中得到的数字进行平方处理\n",
    "    - 3、第三个函数的功能为：得到平方处理后的数字 - 原来输入的数字，并打印结果"
   ]
  },
  {
   "cell_type": "code",
   "execution_count": 83,
   "metadata": {},
   "outputs": [],
   "source": [
    "class Joker2:\n",
    "    \"\"\"\n",
    "    Implement Login Class.\n",
    "    \"\"\"\n",
    "    def __init__(self):\n",
    "        \"\"\"\n",
    "        Initialization class\n",
    "        Arguments:\n",
    "        ---------\n",
    "            name: xxx\n",
    "            None.\n",
    "        Returns:\n",
    "        --------\n",
    "            None.\n",
    "        \"\"\"\n",
    "        self.account = '123'\n",
    "        self.password = '123'\n",
    "    def Account(self):\n",
    "        \"\"\"\n",
    "        Input Account value\n",
    "        Arguments:\n",
    "        ---------\n",
    "            None.\n",
    "        Returns:\n",
    "        --------\n",
    "            None.\n",
    "        \"\"\"\n",
    "        self.acc = input('请输入账号:>>')\n",
    "    def Password(self):\n",
    "        \"\"\"\n",
    "        Input Password value\n",
    "        Arguments:\n",
    "        ---------\n",
    "            None.\n",
    "        Returns:\n",
    "        --------\n",
    "            None.\n",
    "        \"\"\"\n",
    "        self.passwor = input('请输入密码:>>')\n",
    "    def Check(self):\n",
    "        \"\"\"\n",
    "        Check account and password\n",
    "        Note:\n",
    "        ----\n",
    "            we need \"and\" connect.\n",
    "            if account and password is right, then login OK.\n",
    "            else: running Veriy func.\n",
    "        \"\"\"\n",
    "        if self.acc == self.account and self.passwor == self.password:\n",
    "            print('Success')\n",
    "        else:\n",
    "            # running Verify !\n",
    "            self.Verify()\n",
    "    def Verify(self):\n",
    "        \"\"\"\n",
    "        Verify ....\n",
    "        \"\"\"\n",
    "        Verify_Var = 123\n",
    "        print('验证码是:',Verify_Var)\n",
    "        while 1:\n",
    "            User_Verify = eval(input('请输入验证码:>>'))\n",
    "            if User_Verify == Verify_Var:\n",
    "                print('Failed')\n",
    "                break\n",
    "    def Start(self):\n",
    "        \"\"\"\n",
    "        Start definelogistics.\n",
    "        \"\"\"\n",
    "        self.Account()\n",
    "        self.Password()\n",
    "        self.Check()"
   ]
  },
  {
   "cell_type": "code",
   "execution_count": 84,
   "metadata": {},
   "outputs": [],
   "source": [
    "# 创建类的一个实例\n",
    "a = Joker2()"
   ]
  },
  {
   "cell_type": "code",
   "execution_count": 82,
   "metadata": {},
   "outputs": [
    {
     "name": "stdout",
     "output_type": "stream",
     "text": [
      "请输入账号:>>123\n",
      "请输入密码:>>1\n",
      "验证码是: 123\n",
      "请输入验证码:>>1\n",
      "请输入验证码:>>1\n",
      "请输入验证码:>>123\n",
      "Failed\n"
     ]
    }
   ],
   "source": [
    "a.Start()"
   ]
  },
  {
   "cell_type": "markdown",
   "metadata": {},
   "source": [
    "## 类的继承\n",
    "- 类的单继承\n",
    "- 类的多继承\n",
    "- 继承标识\n",
    ">  class SonClass(FatherClass):\n",
    "            \n",
    "            def __init__(self):\n",
    "            \n",
    "                FatherClass.__init__(self)"
   ]
  },
  {
   "cell_type": "code",
   "execution_count": 110,
   "metadata": {
    "scrolled": true
   },
   "outputs": [
    {
     "data": {
      "text/plain": [
       "1000"
      ]
     },
     "execution_count": 110,
     "metadata": {},
     "output_type": "execute_result"
    }
   ],
   "source": [
    "a = 100\n",
    "a = 1000\n",
    "a"
   ]
  },
  {
   "cell_type": "markdown",
   "metadata": {},
   "source": [
    "私有变量,不可继承,不可在外部调用,但是可以在内部使用."
   ]
  },
  {
   "cell_type": "code",
   "execution_count": 32,
   "metadata": {},
   "outputs": [],
   "source": [
    "class A:\n",
    "    def __init__(self):\n",
    "        self.__a = 'a'\n",
    "    def a_(self):\n",
    "        print('aa')\n",
    "        print(self.__a)"
   ]
  },
  {
   "cell_type": "code",
   "execution_count": 35,
   "metadata": {},
   "outputs": [
    {
     "name": "stdout",
     "output_type": "stream",
     "text": [
      "hahah\n"
     ]
    }
   ],
   "source": [
    "def b():\n",
    "    a()\n",
    "    \n",
    "def a():\n",
    "    print('hahah')\n",
    "b()"
   ]
  },
  {
   "cell_type": "markdown",
   "metadata": {},
   "source": [
    "# _ _ -- + = / \\ { } [] ! ~ !@ # $ % ^ & * ( ) < > ……"
   ]
  },
  {
   "cell_type": "markdown",
   "metadata": {},
   "source": [
    "## 私有数据域(私有变量，或者私有函数)\n",
    "- 在Python中 变量名或者函数名使用双下划线代表私有  \\__Joker,   def \\__Joker():\n",
    "- 私有数据域不可继承\n",
    "- 私有数据域强制继承   \\__dir__()"
   ]
  },
  {
   "cell_type": "markdown",
   "metadata": {},
   "source": [
    "![](../Photo/87.png)"
   ]
  },
  {
   "cell_type": "markdown",
   "metadata": {},
   "source": [
    "## EP:\n",
    "![](../Photo/88.png)\n",
    "![](../Photo/89.png)\n",
    "![](../Photo/90.png)\n"
   ]
  },
  {
   "cell_type": "markdown",
   "metadata": {},
   "source": [
    "## 类的其他\n",
    "- 类的封装\n",
    "    - 实际上就是将一类功能放在一起，方便未来进行管理\n",
    "- 类的继承（上面已经讲过）\n",
    "- 类的多态\n",
    "    - 包括装饰器：将放在以后处理高级类中教\n",
    "    - 装饰器的好处：当许多类中的函数需要使用同一个功能的时候，那么使用装饰器就会方便许多\n",
    "    - 装饰器是有固定的写法\n",
    "        - 其包括普通装饰器与带参装饰器"
   ]
  },
  {
   "cell_type": "markdown",
   "metadata": {},
   "source": [
    "# Homewor\n",
    "## UML类图可以不用画\n",
    "## UML 实际上就是一个思维图\n",
    "- 1\n",
    "![](../Photo/91.png)"
   ]
  },
  {
   "cell_type": "code",
   "execution_count": 26,
   "metadata": {},
   "outputs": [
    {
     "name": "stdout",
     "output_type": "stream",
     "text": [
      "第一个矩形的宽为：4.00，高为：40.00，面积：160.00，周长：88.00\n",
      "第二个矩形的宽为：3.50，高为：35.70，面积：124.95，周长：78.40\n"
     ]
    }
   ],
   "source": [
    "class Rectangle:\n",
    "    def __init__(self,width_1,width_2,height_1,height_2):\n",
    "        self.width_1 = width_1\n",
    "        self.height_1 = height_1\n",
    "        self.width_2 = width_2\n",
    "        self.height_2 = height_2\n",
    "    def getArea(self):\n",
    "        area_1 = self.width_1 * self.height_1\n",
    "        area_2 = self.width_2 * self.height_2\n",
    "        self.area_1 = area_1\n",
    "        self.area_2 = area_2\n",
    "    def getPerimeter(self):\n",
    "        perimeter_1 = (self.width_1 + self.height_1) * 2\n",
    "        perimeter_2 = (self.width_2 + self.height_2) * 2\n",
    "        self.perimeter_1 = perimeter_1\n",
    "        self.perimeter_2 = perimeter_2\n",
    "    def show(self):\n",
    "        print(\"第一个矩形的宽为：%.2f，高为：%.2f，面积：%.2f，周长：%.2f\"%(self.width_1,self.height_1,self.area_1,self.perimeter_1))\n",
    "        print(\"第二个矩形的宽为：%.2f，高为：%.2f，面积：%.2f，周长：%.2f\"%(self.width_2,self.height_2,self.area_2,self.perimeter_2))\n",
    "if __name__ == \"__main__\":\n",
    "    rectangle = Rectangle(4,3.5,40,35.7)\n",
    "    rectangle.getArea()\n",
    "    rectangle.getPerimeter()\n",
    "    rectangle.show()"
   ]
  },
  {
   "cell_type": "markdown",
   "metadata": {},
   "source": [
    "- 2\n",
    "![](../Photo/92.png)"
   ]
  },
  {
   "cell_type": "code",
   "execution_count": 33,
   "metadata": {},
   "outputs": [
    {
     "name": "stdout",
     "output_type": "stream",
     "text": [
      "取款后的余额：17500\n",
      "月利息：75.0\n",
      "月利率：0.00375\n",
      "存款后的余额：23000\n",
      "月利率：0.00375\n",
      "月利息：75.0\n",
      "月利率：0.00375\n"
     ]
    }
   ],
   "source": [
    "class Account:\n",
    "    def __init__(self):\n",
    "        self.id = 1122\n",
    "        self.balance = 20000\n",
    "        self.annuallnterestRate = 4.5\n",
    "        \n",
    "    def getMonthlyInterestRate(self):\n",
    "        monthlyInterestRate = self.annuallnterestRate / 100 / 12.0\n",
    "        print('月利率：%s'%monthlyInterestRate)\n",
    "        \n",
    "    def withdraw(self,quMoney):\n",
    "        draw = self.balance - quMoney\n",
    "        self.draw = draw\n",
    "        print('取款后的余额：%s'%draw)\n",
    "        self.getMonthlyInerest()\n",
    "        \n",
    "    def depposit(self,cMoney):\n",
    "        money = self.balance + cMoney\n",
    "        print('存款后的余额：%s'%money)\n",
    "        self.money = money\n",
    "        self.getMonthlyInterestRate()\n",
    "        self.getMonthlyInerest()\n",
    "        \n",
    "    def getMonthlyInerest(self):\n",
    "        monthlyIn_2 = self.balance * self.annuallnterestRate / 100 / 12.0\n",
    "        print('月利息：%s'%monthlyIn_2)\n",
    "        self.getMonthlyInterestRate()\n",
    "            \n",
    "if __name__ == \"__main__\":\n",
    "    account = Account()\n",
    "    account.withdraw(2500)\n",
    "    account.depposit(3000)\n",
    "    "
   ]
  },
  {
   "cell_type": "markdown",
   "metadata": {},
   "source": [
    "- 3\n",
    "![](../Photo/93.png)"
   ]
  },
  {
   "cell_type": "code",
   "execution_count": 33,
   "metadata": {},
   "outputs": [
    {
     "name": "stdout",
     "output_type": "stream",
     "text": [
      "请选择速度：1.低速 2.中速 3.高速 >>>>高速\n",
      "输入半径：5\n",
      "输入颜色：blue\n",
      "一定是打开方式不对！！！！再来。。。\n",
      "请选择速度：1.低速 2.中速 3.高速 >>>>高速\n",
      "输入半径：5\n",
      "输入颜色：yellow\n",
      "一定是打开方式不对！！！！再来。。。\n",
      "请选择速度：1.低速 2.中速 3.高速 >>>>高速\n",
      "输入半径：10\n",
      "输入颜色：yellow\n",
      "打开风扇--ON--\n",
      "风扇的属性：高速,10,yellow\n"
     ]
    }
   ],
   "source": [
    "class Fan:\n",
    "    def __init__(self):\n",
    "        self.SLOW = '[1] 低速'\n",
    "        self.MEDIUM = '[2] 中速'\n",
    "        self.FAST = '[3] 高速'\n",
    "    def __speed(self):\n",
    "        speed = input('请选择速度：1.低速 2.中速 3.高速 >>>>')\n",
    "        self.speed = speed\n",
    "        self.__radius()\n",
    "        \n",
    "    def __on(self):\n",
    "        if self.speed == '高速' and self.radius == 10 and self.colors == 'yellow':\n",
    "            print('打开风扇--ON--')\n",
    "            print('风扇的属性：%s,%s,%s'%(self.speed,self.radius,self.colors))\n",
    "        elif self.speed == '中速' and self.radius == 5 and self.colors == 'blue':\n",
    "            print('关闭风扇--OFF--')\n",
    "            print('风扇的属性：%s,%s,%s'%(self.speed,self.radius,self.colors))\n",
    "        else:\n",
    "            print('一定是打开方式不对！！！！再来。。。')\n",
    "            self.__speed()\n",
    "    def __radius(self):\n",
    "        radius = int(input('输入半径：'))\n",
    "        self.radius = radius\n",
    "        self.__color()\n",
    "        \n",
    "    def __color(self):\n",
    "        colors = input('输入颜色：')\n",
    "        self.colors = colors\n",
    "        self.__on()\n",
    "        \n",
    "if __name__ == \"__main__\":\n",
    "    fan = Fan()\n",
    "    fan._Fan__speed()\n",
    "    "
   ]
  },
  {
   "cell_type": "markdown",
   "metadata": {},
   "source": [
    "- 4\n",
    "![](../Photo/94.png)\n",
    "![](../Photo/95.png)"
   ]
  },
  {
   "cell_type": "code",
   "execution_count": 12,
   "metadata": {},
   "outputs": [
    {
     "name": "stdout",
     "output_type": "stream",
     "text": [
      "24\n",
      "13.856406460551018\n"
     ]
    }
   ],
   "source": [
    "import math\n",
    "class RegularPolygon:\n",
    "    def __init__(self,n,side):\n",
    "        self.n = n\n",
    "        self.side = side\n",
    "        self.x = 0\n",
    "        self.y = 0\n",
    "    def getPerimeter(self):\n",
    "        perimeter = self.n * self.side\n",
    "        print(perimeter)\n",
    "    def getArea(self):\n",
    "        area = (self.n * self.side ** 2) / 4 * math.tan(math.pi / self.n)\n",
    "        print(area)\n",
    "    def RegularPolygon(self,n,side):\n",
    "        self.n = n\n",
    "        self.side = side\n",
    "        reg.getPerimeter()\n",
    "    def RegularPolygon(self,s,r,z,p,q,m):\n",
    "        \n",
    "if __name__ == \"__main__\":\n",
    "    reg = RegularPolygon(6,4)\n",
    "    reg.getPerimeter()\n",
    "    reg.getArea()\n",
    "    reg.RegularPolygon(10,4,5,6,7,8)"
   ]
  },
  {
   "cell_type": "markdown",
   "metadata": {},
   "source": [
    "- 5\n",
    "![](../Photo/96.png)"
   ]
  },
  {
   "cell_type": "code",
   "execution_count": 3,
   "metadata": {},
   "outputs": [
    {
     "name": "stdout",
     "output_type": "stream",
     "text": [
      "Enter the number:1,2,3,4,5,6\n",
      "x = -4\n",
      "y = 4\n"
     ]
    }
   ],
   "source": [
    "class LinearEquation:\n",
    "    \n",
    "    def __init__(self):\n",
    "        pass\n",
    "    def getNum(self):\n",
    "        a,b,c,d,e,f = eval(input('Enter the number:'))\n",
    "        self.a = a\n",
    "        self.b = b\n",
    "        self.c = c\n",
    "        self.d = d\n",
    "        self.e = e\n",
    "        self.f = f\n",
    "        self.isSolvable()\n",
    "    def isSolvable(self):\n",
    "        panduan = self.a * self.d - self.b * self.c\n",
    "        \n",
    "        if panduan == 0:\n",
    "            print('这个方程式无解！！！！')\n",
    "        else:\n",
    "            self.getX()\n",
    "            self.getY()\n",
    "    def getX(self):\n",
    "        x = (self.e * self.d - self.b* self.f) / (self.a * self.d - self.b * self.c)\n",
    "        self.x = x\n",
    "        print('x = %d'%x)\n",
    "    def getY(self):\n",
    "        y = (self.a * self.f - self.e * self.c) / (self.a * self.d - self.b * self.c)\n",
    "        self.y = y\n",
    "        print('y = %d'%y)\n",
    "    \n",
    "if __name__ == \"__main__\":\n",
    "    lin = LinearEquation()\n",
    "    lin.getNum()"
   ]
  },
  {
   "cell_type": "markdown",
   "metadata": {},
   "source": [
    "- 6\n",
    "![](../Photo/97.png)"
   ]
  },
  {
   "cell_type": "code",
   "execution_count": 5,
   "metadata": {},
   "outputs": [
    {
     "name": "stdout",
     "output_type": "stream",
     "text": [
      "Enter the endpoints of the first line segment:2.0,2.0,0,0\n",
      "Enter the endpoints of the second line segment:0,2.0,2.0,0\n",
      "The intersecting point is: (1,1)\n"
     ]
    }
   ],
   "source": [
    "class Point:\n",
    "    def __init__(self):\n",
    "        pass\n",
    "    def first(self):\n",
    "        x1,y1,x2,y2 = eval(input('Enter the endpoints of the first line segment:'))\n",
    "        b1 = (y2 - y1) * x1 + (x1 - x2) * y1\n",
    "        self.x1 = x1\n",
    "        self.x2 = x2\n",
    "        self.y1 = y1\n",
    "        self.y2 = y2\n",
    "        self.b1 = b1\n",
    "        self.second()\n",
    "    def second(self):\n",
    "        x3,y3,x4,y4 = eval(input('Enter the endpoints of the second line segment:'))\n",
    "        b2 = (y4 - y3) * x3 + (x3 - x4) * y3\n",
    "        self.x3 = x3\n",
    "        self.x4 = x4\n",
    "        self.y3 = y3\n",
    "        self.y4 = y4\n",
    "        self.b2 = b2\n",
    "        self.point()\n",
    "    def point(self):\n",
    "        D = (self.x2 - self.x1) * (self.y4 - self.y3) - (self.x4 - self.x3) * (self.y2 - self.y1)\n",
    "        D1 = self.b2 * (self.x2 - self.x1) - self.b1 * (self.x4 - self.x3)\n",
    "        D2 = self.b2 * (self.y2 - self.y1) - self.b1 * (self.y4 - self.y3)\n",
    "        x0 = D1 / D\n",
    "        y0 = D2 / D\n",
    "        self.D = D\n",
    "        self.D1 = D1\n",
    "        self.D2 = D2\n",
    "        self.x0 = x0\n",
    "        self.y0 = y0\n",
    "        self.show()\n",
    "    def show(self):\n",
    "        print('The intersecting point is: (%d,%d)'%(self.x0,self.y0))\n",
    "if __name__ == \"__main__\":\n",
    "    linear = Point()\n",
    "    linear.first()"
   ]
  },
  {
   "cell_type": "markdown",
   "metadata": {},
   "source": [
    "- 7\n",
    "![](../Photo/98.png)"
   ]
  },
  {
   "cell_type": "code",
   "execution_count": 4,
   "metadata": {},
   "outputs": [
    {
     "name": "stdout",
     "output_type": "stream",
     "text": [
      "Enter the number:4,5,6,7,8,9\n",
      "x = -5\n",
      "y = 6\n"
     ]
    }
   ],
   "source": [
    "class LinearEquation:\n",
    "    \n",
    "    def __init__(self):\n",
    "        pass\n",
    "    def getNum(self):\n",
    "        a,b,c,d,e,f = eval(input('Enter the number:'))\n",
    "        self.a = a\n",
    "        self.b = b\n",
    "        self.c = c\n",
    "        self.d = d\n",
    "        self.e = e\n",
    "        self.f = f\n",
    "        self.isSolvable()\n",
    "    def isSolvable(self):\n",
    "        panduan = self.a * self.d - self.b * self.c\n",
    "        if panduan == 0:\n",
    "            print('这个方程式无解！！！！')\n",
    "        else:\n",
    "            self.getX()\n",
    "            self.getY()\n",
    "    def getX(self):\n",
    "        x = (self.e * self.d - self.b* self.f) / (self.a * self.d - self.b * self.c)\n",
    "        self.x = x\n",
    "        print('x = %d'%x)\n",
    "    def getY(self):\n",
    "        y = (self.a * self.f - self.e * self.c) / (self.a * self.d - self.b * self.c)\n",
    "        self.y = y\n",
    "        print('y = %d'%y)\n",
    "    \n",
    "if __name__ == \"__main__\":\n",
    "    lin = LinearEquation()\n",
    "    lin.getNum()"
   ]
  },
  {
   "cell_type": "code",
   "execution_count": null,
   "metadata": {},
   "outputs": [],
   "source": []
  }
 ],
 "metadata": {
  "kernelspec": {
   "display_name": "Python 3",
   "language": "python",
   "name": "python3"
  },
  "language_info": {
   "codemirror_mode": {
    "name": "ipython",
    "version": 3
   },
   "file_extension": ".py",
   "mimetype": "text/x-python",
   "name": "python",
   "nbconvert_exporter": "python",
   "pygments_lexer": "ipython3",
   "version": "3.7.3"
  }
 },
 "nbformat": 4,
 "nbformat_minor": 2
}
